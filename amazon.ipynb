{
 "cells": [
  {
   "cell_type": "code",
   "execution_count": 11,
   "id": "2280ccd8-974d-4de1-a2dd-4087ff23b242",
   "metadata": {},
   "outputs": [
    {
     "name": "stdout",
     "output_type": "stream",
     "text": [
      "Initial rows: 500\n",
      "\n",
      "Missing values per column:\n",
      " product_category          0\n",
      "price                     0\n",
      "delivery_days             0\n",
      "customer_tier             0\n",
      "is_cod                    0\n",
      "product_rating            0\n",
      "is_returned               0\n",
      "customer_location         0\n",
      "return_reason           345\n",
      "product_weight_grams      0\n",
      "days_to_return            0\n",
      "dtype: int64\n",
      "Rows after cleaning: 500\n",
      "✅ Training Accuracy: 1.0\n",
      "✅ Testing Accuracy: 1.0\n",
      "🎉 Model and scaler saved successfully.\n"
     ]
    }
   ],
   "source": [
    "import pandas as pd\n",
    "import numpy as np\n",
    "from sklearn.model_selection import train_test_split\n",
    "from sklearn.preprocessing import StandardScaler\n",
    "from sklearn.ensemble import RandomForestClassifier\n",
    "import joblib\n",
    "\n",
    "# Load data\n",
    "df = pd.read_csv(\"Amazon.csv\")\n",
    "print(\"Initial rows:\", df.shape[0])\n",
    "\n",
    "# Check missing values\n",
    "print(\"\\nMissing values per column:\\n\", df.isnull().sum())\n",
    "\n",
    "# Map categorical values\n",
    "category_map = {\"Electronics\": 0, \"Clothing\": 1, \"Home\": 2, \"Books\": 3, \"Beauty\": 4}\n",
    "tier_map = {\"Bronze\": 0, \"Silver\": 1, \"Gold\": 2, \"Platinum\": 3}\n",
    "location_map = {\"North\": 0, \"South\": 1, \"East\": 2, \"West\": 3, \"Central\": 4}\n",
    "reason_map = {\"None\": 0, \"Defective\": 1, \"Wrong Item\": 2, \"Changed Mind\": 3, \"Late Delivery\": 4, \"Other\": 5}\n",
    "is_cod_map = {\"Yes\": 1, \"No\": 0}\n",
    "\n",
    "# Apply mappings\n",
    "df['product_category'] = df['product_category'].map(category_map)\n",
    "df['customer_tier'] = df['customer_tier'].map(tier_map)\n",
    "df['customer_location'] = df['customer_location'].map(location_map)\n",
    "df['return_reason'] = df['return_reason'].map(reason_map)\n",
    "df['is_cod'] = df['is_cod'].map(is_cod_map)\n",
    "\n",
    "# Fill missing values instead of dropping\n",
    "df.fillna({\n",
    "    'product_rating': df['product_rating'].mean(),\n",
    "    'price': df['price'].mean(),\n",
    "    'delivery_days': df['delivery_days'].mode()[0],\n",
    "    'customer_tier': 0,\n",
    "    'return_reason': 0,\n",
    "    'product_weight_grams': df['product_weight_grams'].mean(),\n",
    "    'days_to_return': 0,\n",
    "    'is_cod': 0,\n",
    "    'product_category': 0,\n",
    "    'customer_location': 0\n",
    "}, inplace=True)\n",
    "\n",
    "# Drop rows only if 'is_returned' is missing (target column)\n",
    "df.dropna(subset=['is_returned'], inplace=True)\n",
    "\n",
    "print(\"Rows after cleaning:\", df.shape[0])\n",
    "\n",
    "# Features and target\n",
    "X = df[[\n",
    "    'product_category',\n",
    "    'price',\n",
    "    'delivery_days',\n",
    "    'customer_tier',\n",
    "    'is_cod',\n",
    "    'product_rating',\n",
    "    'customer_location',\n",
    "    'return_reason',\n",
    "    'product_weight_grams',\n",
    "    'days_to_return'\n",
    "]]\n",
    "y = df['is_returned']\n",
    "\n",
    "# Train-test split\n",
    "X_train, X_test, y_train, y_test = train_test_split(X, y, test_size=0.2, random_state=42)\n",
    "\n",
    "# Scaling\n",
    "scaler = StandardScaler()\n",
    "X_train_scaled = scaler.fit_transform(X_train)\n",
    "X_test_scaled = scaler.transform(X_test)\n",
    "\n",
    "# Model\n",
    "model = RandomForestClassifier(n_estimators=100, random_state=42)\n",
    "model.fit(X_train_scaled, y_train)\n",
    "\n",
    "print(\"✅ Training Accuracy:\", model.score(X_train_scaled, y_train))\n",
    "print(\"✅ Testing Accuracy:\", model.score(X_test_scaled, y_test))\n",
    "\n",
    "# Save\n",
    "joblib.dump(model, 'customer_return_model.pkl')\n",
    "joblib.dump(scaler, 'scaler.pkl')\n",
    "\n",
    "print(\"🎉 Model and scaler saved successfully.\")\n"
   ]
  },
  {
   "cell_type": "code",
   "execution_count": 3,
   "id": "4dc63f36-c95e-47f4-bd74-3e74bf6f9ea4",
   "metadata": {},
   "outputs": [
    {
     "name": "stdout",
     "output_type": "stream",
     "text": [
      "Index(['product_category', 'price', 'delivery_days', 'customer_tier', 'is_cod',\n",
      "       'product_rating', 'is_returned', 'customer_location', 'return_reason',\n",
      "       'product_weight_grams', 'days_to_return'],\n",
      "      dtype='object')\n"
     ]
    }
   ],
   "source": [
    "print(df.columns)\n"
   ]
  },
  {
   "cell_type": "code",
   "execution_count": 5,
   "id": "cf8b4190-5232-4a18-87c1-c6d4bbda65e5",
   "metadata": {},
   "outputs": [],
   "source": [
    "df = df.dropna()\n"
   ]
  },
  {
   "cell_type": "code",
   "execution_count": 6,
   "id": "288a1b56-6a65-4086-b826-6ca05edca8b8",
   "metadata": {},
   "outputs": [],
   "source": [
    "df = df.dropna(subset=[\n",
    "    'product_category', 'price', 'delivery_days', 'customer_tier',\n",
    "    'is_cod', 'product_rating', 'customer_location', 'return_reason',\n",
    "    'product_weight_grams', 'days_to_return', 'is_returned'\n",
    "])\n"
   ]
  },
  {
   "cell_type": "code",
   "execution_count": null,
   "id": "832b4777-5fc6-44d4-a2d6-c86f5b1c206b",
   "metadata": {},
   "outputs": [],
   "source": []
  }
 ],
 "metadata": {
  "kernelspec": {
   "display_name": "Python 3 (ipykernel)",
   "language": "python",
   "name": "python3"
  },
  "language_info": {
   "codemirror_mode": {
    "name": "ipython",
    "version": 3
   },
   "file_extension": ".py",
   "mimetype": "text/x-python",
   "name": "python",
   "nbconvert_exporter": "python",
   "pygments_lexer": "ipython3",
   "version": "3.13.5"
  }
 },
 "nbformat": 4,
 "nbformat_minor": 5
}
